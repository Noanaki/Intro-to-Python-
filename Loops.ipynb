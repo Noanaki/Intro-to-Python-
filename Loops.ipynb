{
 "cells": [
  {
   "cell_type": "markdown",
   "id": "bc70df19",
   "metadata": {},
   "source": [
    "Iteration is the ability to execute certain codes multiple times"
   ]
  },
  {
   "cell_type": "code",
   "execution_count": 1,
   "id": "ff495652",
   "metadata": {},
   "outputs": [],
   "source": [
    "even = [0,2,4,6,8,10,12,14,16,18,20]"
   ]
  },
  {
   "cell_type": "code",
   "execution_count": 4,
   "id": "d4ad0845",
   "metadata": {},
   "outputs": [
    {
     "name": "stdout",
     "output_type": "stream",
     "text": [
      "0\n",
      "2\n",
      "4\n",
      "6\n",
      "8\n",
      "10\n",
      "12\n",
      "14\n",
      "16\n",
      "18\n",
      "20\n"
     ]
    }
   ],
   "source": [
    "#for every element 'n' in the list even, 'n' is the loop variable (but it can be named anything)\n",
    "for n in even:\n",
    "    print (n)"
   ]
  },
  {
   "cell_type": "code",
   "execution_count": 5,
   "id": "9b11d895",
   "metadata": {},
   "outputs": [
    {
     "name": "stdout",
     "output_type": "stream",
     "text": [
      "0 2 4 6 8 10 12 14 16 18 20 "
     ]
    }
   ],
   "source": [
    "for n in even:\n",
    "    print (n, end = ' ')"
   ]
  },
  {
   "cell_type": "markdown",
   "id": "3fa7d9fe",
   "metadata": {},
   "source": [
    "Another way to achieve the same thing is with the while loop"
   ]
  },
  {
   "cell_type": "code",
   "execution_count": null,
   "id": "236574c8",
   "metadata": {},
   "outputs": [],
   "source": [
    "# this is an infinite loop, we need to adjust x to end\n",
    "x = 0\n",
    "while x <=20:\n",
    "    print (x, end = \" \")"
   ]
  },
  {
   "cell_type": "code",
   "execution_count": 1,
   "id": "5dd3ab4d",
   "metadata": {},
   "outputs": [
    {
     "name": "stdout",
     "output_type": "stream",
     "text": [
      "0 2 4 6 8 10 12 14 16 18 20 "
     ]
    }
   ],
   "source": [
    "x = 0\n",
    "while x <=20:\n",
    "    print (x, end = \" \")\n",
    "    x = x + 2 #increments of 2 can also be written as x += 2"
   ]
  },
  {
   "cell_type": "code",
   "execution_count": null,
   "id": "73d8a35b",
   "metadata": {},
   "outputs": [],
   "source": []
  }
 ],
 "metadata": {
  "kernelspec": {
   "display_name": "Python 3 (ipykernel)",
   "language": "python",
   "name": "python3"
  },
  "language_info": {
   "codemirror_mode": {
    "name": "ipython",
    "version": 3
   },
   "file_extension": ".py",
   "mimetype": "text/x-python",
   "name": "python",
   "nbconvert_exporter": "python",
   "pygments_lexer": "ipython3",
   "version": "3.9.12"
  }
 },
 "nbformat": 4,
 "nbformat_minor": 5
}
