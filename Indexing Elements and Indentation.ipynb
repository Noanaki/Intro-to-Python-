{
 "cells": [
  {
   "cell_type": "code",
   "execution_count": 1,
   "id": "482ea7f7",
   "metadata": {},
   "outputs": [
    {
     "data": {
      "text/plain": [
       "'d'"
      ]
     },
     "execution_count": 1,
     "metadata": {},
     "output_type": "execute_result"
    }
   ],
   "source": [
    "\"Friday\"[3]"
   ]
  },
  {
   "cell_type": "markdown",
   "id": "04c35933",
   "metadata": {},
   "source": [
    "The index of an element is found by using the []. This means we are identifying which value from a variable or string we want to pin-point, and in python, we count from 0 not 1 which is why the 3rd letter is 'd'"
   ]
  },
  {
   "cell_type": "code",
   "execution_count": 3,
   "id": "5f1db17f",
   "metadata": {},
   "outputs": [],
   "source": [
    "def five(x):\n",
    "    x = 5\n",
    "    return x\n",
    "    print (five(3))"
   ]
  },
  {
   "cell_type": "code",
   "execution_count": 4,
   "id": "8a833b40",
   "metadata": {},
   "outputs": [
    {
     "name": "stdout",
     "output_type": "stream",
     "text": [
      "5\n"
     ]
    }
   ],
   "source": [
    "def five(x):\n",
    "    x = 5\n",
    "    return x\n",
    "\n",
    "print (five(3))"
   ]
  },
  {
   "cell_type": "markdown",
   "id": "d6f6f7e7",
   "metadata": {},
   "source": [
    "Indents organize code and function as a \"page break\". WE can seperate lines of code in 1 cell into 2 blocks of code that are independent by putting a line inbetween them"
   ]
  }
 ],
 "metadata": {
  "kernelspec": {
   "display_name": "Python 3 (ipykernel)",
   "language": "python",
   "name": "python3"
  },
  "language_info": {
   "codemirror_mode": {
    "name": "ipython",
    "version": 3
   },
   "file_extension": ".py",
   "mimetype": "text/x-python",
   "name": "python",
   "nbconvert_exporter": "python",
   "pygments_lexer": "ipython3",
   "version": "3.9.12"
  }
 },
 "nbformat": 4,
 "nbformat_minor": 5
}
