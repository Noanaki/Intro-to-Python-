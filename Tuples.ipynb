{
 "cells": [
  {
   "cell_type": "markdown",
   "id": "4d34b607",
   "metadata": {},
   "source": [
    "Tuples are another type of data sequences, and is the default of pyhtong listing\n",
    "However, tuples cannot be edited in any way\n",
    "To make a tuple, elements are placed within a () not a []"
   ]
  },
  {
   "cell_type": "code",
   "execution_count": 2,
   "id": "a483c2ef",
   "metadata": {},
   "outputs": [
    {
     "data": {
      "text/plain": [
       "(40, 41, 42)"
      ]
     },
     "execution_count": 2,
     "metadata": {},
     "output_type": "execute_result"
    }
   ],
   "source": [
    "x = (40, 41, 42)\n",
    "x"
   ]
  },
  {
   "cell_type": "code",
   "execution_count": 3,
   "id": "48868118",
   "metadata": {},
   "outputs": [
    {
     "data": {
      "text/plain": [
       "(50, 51, 52)"
      ]
     },
     "execution_count": 3,
     "metadata": {},
     "output_type": "execute_result"
    }
   ],
   "source": [
    "y = 50, 51, 52\n",
    "y"
   ]
  },
  {
   "cell_type": "code",
   "execution_count": 5,
   "id": "2283e8db",
   "metadata": {},
   "outputs": [
    {
     "data": {
      "text/plain": [
       "3"
      ]
     },
     "execution_count": 5,
     "metadata": {},
     "output_type": "execute_result"
    }
   ],
   "source": [
    "a, b, c = 1, 2, 3\n",
    "c"
   ]
  },
  {
   "cell_type": "code",
   "execution_count": 7,
   "id": "6565430d",
   "metadata": {},
   "outputs": [
    {
     "data": {
      "text/plain": [
       "[(40, 41, 42), (50, 51, 52)]"
      ]
     },
     "execution_count": 7,
     "metadata": {},
     "output_type": "execute_result"
    }
   ],
   "source": [
    "list_1 = [x,y]\n",
    "list_1"
   ]
  },
  {
   "cell_type": "markdown",
   "id": "23e7462e",
   "metadata": {},
   "source": [
    "We can assign numbers to multiple tuples at once using the .split method\n",
    ".split() bisects a string at a given string"
   ]
  },
  {
   "cell_type": "code",
   "execution_count": 11,
   "id": "4b08db6b",
   "metadata": {},
   "outputs": [
    {
     "name": "stdout",
     "output_type": "stream",
     "text": [
      "30\n",
      "17\n"
     ]
    }
   ],
   "source": [
    "(age, years_of_school) = \"30,17\".split(',')\n",
    "print(age)\n",
    "print(years_of_school)"
   ]
  },
  {
   "cell_type": "markdown",
   "id": "838456cd",
   "metadata": {},
   "source": [
    "Function can provide tuples as return values"
   ]
  },
  {
   "cell_type": "code",
   "execution_count": 14,
   "id": "5fffc5b6",
   "metadata": {},
   "outputs": [
    {
     "name": "stdout",
     "output_type": "stream",
     "text": [
      "Area and Perimeter\n"
     ]
    },
    {
     "data": {
      "text/plain": [
       "(25, 20)"
      ]
     },
     "execution_count": 14,
     "metadata": {},
     "output_type": "execute_result"
    }
   ],
   "source": [
    "def square_info(x):\n",
    "    A = x ** 2\n",
    "    P = 4 * x\n",
    "    print('Area and Perimeter')\n",
    "    return A,P\n",
    "square_info(5)"
   ]
  },
  {
   "cell_type": "code",
   "execution_count": null,
   "id": "e39db4b4",
   "metadata": {},
   "outputs": [],
   "source": []
  }
 ],
 "metadata": {
  "kernelspec": {
   "display_name": "Python 3 (ipykernel)",
   "language": "python",
   "name": "python3"
  },
  "language_info": {
   "codemirror_mode": {
    "name": "ipython",
    "version": 3
   },
   "file_extension": ".py",
   "mimetype": "text/x-python",
   "name": "python",
   "nbconvert_exporter": "python",
   "pygments_lexer": "ipython3",
   "version": "3.9.12"
  }
 },
 "nbformat": 4,
 "nbformat_minor": 5
}
