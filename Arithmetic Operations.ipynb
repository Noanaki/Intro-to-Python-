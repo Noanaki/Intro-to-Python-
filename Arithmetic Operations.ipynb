{
 "cells": [
  {
   "cell_type": "code",
   "execution_count": 1,
   "id": "1a5d5749",
   "metadata": {},
   "outputs": [
    {
     "data": {
      "text/plain": [
       "3"
      ]
     },
     "execution_count": 1,
     "metadata": {},
     "output_type": "execute_result"
    }
   ],
   "source": [
    "1 + 2"
   ]
  },
  {
   "cell_type": "code",
   "execution_count": 2,
   "id": "dd11786e",
   "metadata": {},
   "outputs": [
    {
     "data": {
      "text/plain": [
       "-2"
      ]
     },
     "execution_count": 2,
     "metadata": {},
     "output_type": "execute_result"
    }
   ],
   "source": [
    "3 - 5"
   ]
  },
  {
   "cell_type": "markdown",
   "id": "a9687150",
   "metadata": {},
   "source": [
    "the numbers are called Operands, and the + and _ are called arithmetic operators"
   ]
  },
  {
   "cell_type": "code",
   "execution_count": 3,
   "id": "a946009b",
   "metadata": {},
   "outputs": [
    {
     "data": {
      "text/plain": [
       "5.0"
      ]
     },
     "execution_count": 3,
     "metadata": {},
     "output_type": "execute_result"
    }
   ],
   "source": [
    "15 / 3"
   ]
  },
  {
   "cell_type": "code",
   "execution_count": 4,
   "id": "27744ecd",
   "metadata": {},
   "outputs": [
    {
     "data": {
      "text/plain": [
       "5.333333333333333"
      ]
     },
     "execution_count": 4,
     "metadata": {},
     "output_type": "execute_result"
    }
   ],
   "source": [
    "16 / 3"
   ]
  },
  {
   "cell_type": "markdown",
   "id": "d48eb353",
   "metadata": {},
   "source": [
    "In Python 3, numbers being divided are considered floats (indicated by decimal answer)"
   ]
  },
  {
   "cell_type": "code",
   "execution_count": 5,
   "id": "ba4c70ed",
   "metadata": {},
   "outputs": [
    {
     "data": {
      "text/plain": [
       "1"
      ]
     },
     "execution_count": 5,
     "metadata": {},
     "output_type": "execute_result"
    }
   ],
   "source": [
    "16 % 3"
   ]
  },
  {
   "cell_type": "markdown",
   "id": "9bc7f6a6",
   "metadata": {},
   "source": [
    "% gives us the remainder of the division operation"
   ]
  },
  {
   "cell_type": "code",
   "execution_count": 6,
   "id": "703bde6f",
   "metadata": {},
   "outputs": [
    {
     "data": {
      "text/plain": [
       "15"
      ]
     },
     "execution_count": 6,
     "metadata": {},
     "output_type": "execute_result"
    }
   ],
   "source": [
    "5 * 3"
   ]
  },
  {
   "cell_type": "code",
   "execution_count": 8,
   "id": "59c9c0b0",
   "metadata": {},
   "outputs": [
    {
     "data": {
      "text/plain": [
       "15"
      ]
     },
     "execution_count": 8,
     "metadata": {},
     "output_type": "execute_result"
    }
   ],
   "source": [
    "x = 5 * 3\n",
    "x"
   ]
  },
  {
   "cell_type": "code",
   "execution_count": 9,
   "id": "e7752d26",
   "metadata": {},
   "outputs": [
    {
     "data": {
      "text/plain": [
       "125"
      ]
     },
     "execution_count": 9,
     "metadata": {},
     "output_type": "execute_result"
    }
   ],
   "source": [
    "5 ** 3"
   ]
  },
  {
   "cell_type": "markdown",
   "id": "63aed69d",
   "metadata": {},
   "source": [
    "Multiplication uses the * and for exponents we use the **"
   ]
  }
 ],
 "metadata": {
  "kernelspec": {
   "display_name": "Python 3 (ipykernel)",
   "language": "python",
   "name": "python3"
  },
  "language_info": {
   "codemirror_mode": {
    "name": "ipython",
    "version": 3
   },
   "file_extension": ".py",
   "mimetype": "text/x-python",
   "name": "python",
   "nbconvert_exporter": "python",
   "pygments_lexer": "ipython3",
   "version": "3.9.12"
  }
 },
 "nbformat": 4,
 "nbformat_minor": 5
}
