{
 "cells": [
  {
   "cell_type": "markdown",
   "id": "9f835ba0",
   "metadata": {},
   "source": [
    "Lists are a type of sequence made of data points (floats, integers, or strings)\n",
    "To create lists, we use [] , with each datapoint seperated by a ,"
   ]
  },
  {
   "cell_type": "code",
   "execution_count": 1,
   "id": "94eac88d",
   "metadata": {},
   "outputs": [
    {
     "data": {
      "text/plain": [
       "['John', 'Leila', 'Gregory', 'Cate']"
      ]
     },
     "execution_count": 1,
     "metadata": {},
     "output_type": "execute_result"
    }
   ],
   "source": [
    "participants = ['John', 'Leila', 'Gregory', 'Cate']\n",
    "participants"
   ]
  },
  {
   "cell_type": "markdown",
   "id": "28b3ea25",
   "metadata": {},
   "source": [
    "For pulling specific elements, we use the brackets again, but inside we put the index(the element position in realtion to the list) to pull a specific element \n",
    "REMEMBER when counting elements we start from 0"
   ]
  },
  {
   "cell_type": "code",
   "execution_count": 2,
   "id": "5b2279e1",
   "metadata": {},
   "outputs": [
    {
     "data": {
      "text/plain": [
       "'Gregory'"
      ]
     },
     "execution_count": 2,
     "metadata": {},
     "output_type": "execute_result"
    }
   ],
   "source": [
    "participants[2]"
   ]
  },
  {
   "cell_type": "markdown",
   "id": "090e6aaf",
   "metadata": {},
   "source": [
    "We can also count backwards with - numbers, but these start at -1, since 0 is always the first index, if we wanted the last element we would say -1"
   ]
  },
  {
   "cell_type": "code",
   "execution_count": 3,
   "id": "084da21f",
   "metadata": {},
   "outputs": [
    {
     "data": {
      "text/plain": [
       "'Cate'"
      ]
     },
     "execution_count": 3,
     "metadata": {},
     "output_type": "execute_result"
    }
   ],
   "source": [
    "participants[-1]"
   ]
  },
  {
   "cell_type": "markdown",
   "id": "0ad83daa",
   "metadata": {},
   "source": [
    "We can replace elements using ="
   ]
  },
  {
   "cell_type": "code",
   "execution_count": 4,
   "id": "7176cc7a",
   "metadata": {},
   "outputs": [
    {
     "data": {
      "text/plain": [
       "['John', 'Leila', 'Gregory', 'Maria']"
      ]
     },
     "execution_count": 4,
     "metadata": {},
     "output_type": "execute_result"
    }
   ],
   "source": [
    "participants[3] = 'Maria'\n",
    "participants"
   ]
  },
  {
   "cell_type": "markdown",
   "id": "cf5d4892",
   "metadata": {},
   "source": [
    "we can use the keyword 'del' to remove\n",
    "Keep in mind removing an element changes the index of all elements"
   ]
  },
  {
   "cell_type": "code",
   "execution_count": 5,
   "id": "4aeb9603",
   "metadata": {},
   "outputs": [
    {
     "data": {
      "text/plain": [
       "['John', 'Leila', 'Maria']"
      ]
     },
     "execution_count": 5,
     "metadata": {},
     "output_type": "execute_result"
    }
   ],
   "source": [
    "del participants[2]\n",
    "participants"
   ]
  },
  {
   "cell_type": "markdown",
   "id": "66ec76be",
   "metadata": {},
   "source": [
    "We can use the method (interchangable with function) \n",
    "Format object . method()\n",
    "\n",
    "We call the period a Dot Operator and it is used in methods\n",
    "\n",
    "the .append() method adds an element to a list\n",
    "the .extend() method attaches a list to another list"
   ]
  },
  {
   "cell_type": "code",
   "execution_count": 6,
   "id": "ef790b95",
   "metadata": {},
   "outputs": [
    {
     "data": {
      "text/plain": [
       "['John', 'Leila', 'Maria', 'Dwayne']"
      ]
     },
     "execution_count": 6,
     "metadata": {},
     "output_type": "execute_result"
    }
   ],
   "source": [
    "participants.append('Dwayne')\n",
    "participants"
   ]
  },
  {
   "cell_type": "code",
   "execution_count": 7,
   "id": "7d6f21c5",
   "metadata": {},
   "outputs": [
    {
     "data": {
      "text/plain": [
       "['John', 'Leila', 'Maria', 'Dwayne', 'George', 'Catherine']"
      ]
     },
     "execution_count": 7,
     "metadata": {},
     "output_type": "execute_result"
    }
   ],
   "source": [
    "participants.extend(['George', 'Catherine'])\n",
    "participants"
   ]
  },
  {
   "cell_type": "markdown",
   "id": "480a0911",
   "metadata": {},
   "source": [
    "Note that we can use the len() fucntion to count how many elements are in a list"
   ]
  },
  {
   "cell_type": "code",
   "execution_count": 8,
   "id": "a02ee28b",
   "metadata": {},
   "outputs": [
    {
     "data": {
      "text/plain": [
       "6"
      ]
     },
     "execution_count": 8,
     "metadata": {},
     "output_type": "execute_result"
    }
   ],
   "source": [
    "len(participants)"
   ]
  },
  {
   "cell_type": "markdown",
   "id": "6520664a",
   "metadata": {},
   "source": [
    "Slicing is a method to dissect lists or data\n",
    "\n",
    "When slicing, the 1st number indicates the position of the first element, and the 2nd number indicates the element after the last one you want"
   ]
  },
  {
   "cell_type": "code",
   "execution_count": 9,
   "id": "584c9490",
   "metadata": {},
   "outputs": [
    {
     "data": {
      "text/plain": [
       "['Leila', 'Maria']"
      ]
     },
     "execution_count": 9,
     "metadata": {},
     "output_type": "execute_result"
    }
   ],
   "source": [
    "participants[1:3]"
   ]
  },
  {
   "cell_type": "markdown",
   "id": "280489ef",
   "metadata": {},
   "source": [
    "Note that leila is the 2nd element, so we use 3, since it is the element right after leila"
   ]
  },
  {
   "cell_type": "code",
   "execution_count": 10,
   "id": "0cfd3b46",
   "metadata": {},
   "outputs": [
    {
     "data": {
      "text/plain": [
       "['John', 'Leila']"
      ]
     },
     "execution_count": 10,
     "metadata": {},
     "output_type": "execute_result"
    }
   ],
   "source": [
    "participants[:2]"
   ]
  },
  {
   "cell_type": "code",
   "execution_count": 11,
   "id": "b890bcd0",
   "metadata": {},
   "outputs": [
    {
     "data": {
      "text/plain": [
       "['George', 'Catherine']"
      ]
     },
     "execution_count": 11,
     "metadata": {},
     "output_type": "execute_result"
    }
   ],
   "source": [
    "participants[4:]"
   ]
  },
  {
   "cell_type": "code",
   "execution_count": 12,
   "id": "c75a15ee",
   "metadata": {},
   "outputs": [
    {
     "data": {
      "text/plain": [
       "['George', 'Catherine']"
      ]
     },
     "execution_count": 12,
     "metadata": {},
     "output_type": "execute_result"
    }
   ],
   "source": [
    "participants[-2:]"
   ]
  },
  {
   "cell_type": "markdown",
   "id": "195c2974",
   "metadata": {},
   "source": [
    "Note that we dont need to put 0 to specify we want the first element, leaving it blank implies that we want to start from the beginning [:2], \n",
    "\n",
    "inversely if we wanted all elements past a specific index, we can state [4:], as leaving is blank implies that we have no last element\n",
    "\n",
    "If we wanted to count backwords, we would simply need to change the sign of our index, for example [-2:] would imply that we want all values before the element in position -2"
   ]
  },
  {
   "cell_type": "code",
   "execution_count": 13,
   "id": "167373c3",
   "metadata": {},
   "outputs": [
    {
     "data": {
      "text/plain": [
       "2"
      ]
     },
     "execution_count": 13,
     "metadata": {},
     "output_type": "execute_result"
    }
   ],
   "source": [
    "participants.index('Maria')"
   ]
  },
  {
   "cell_type": "markdown",
   "id": "fc8bdc3a",
   "metadata": {},
   "source": [
    "The .index method allows us to find the index number of a specific element"
   ]
  },
  {
   "cell_type": "code",
   "execution_count": 14,
   "id": "b229be5a",
   "metadata": {},
   "outputs": [
    {
     "data": {
      "text/plain": [
       "['Joshua', 'Brittany']"
      ]
     },
     "execution_count": 14,
     "metadata": {},
     "output_type": "execute_result"
    }
   ],
   "source": [
    "newcomers = ['Joshua', 'Brittany']\n",
    "newcomers"
   ]
  },
  {
   "cell_type": "code",
   "execution_count": 15,
   "id": "bb7f7588",
   "metadata": {},
   "outputs": [
    {
     "data": {
      "text/plain": [
       "[['John', 'Leila', 'Maria', 'Dwayne', 'George', 'Catherine'],\n",
       " ['Joshua', 'Brittany']]"
      ]
     },
     "execution_count": 15,
     "metadata": {},
     "output_type": "execute_result"
    }
   ],
   "source": [
    "bigger_list = [participants, newcomers]\n",
    "bigger_list"
   ]
  },
  {
   "cell_type": "markdown",
   "id": "8f673666",
   "metadata": {},
   "source": [
    "We can use .sort to sort lists in alphabetical or numerical order\n",
    "We can manipulate the sorting method by using statements like (reverse = True)"
   ]
  },
  {
   "cell_type": "code",
   "execution_count": 16,
   "id": "867601f3",
   "metadata": {},
   "outputs": [
    {
     "data": {
      "text/plain": [
       "['Catherine', 'Dwayne', 'George', 'John', 'Leila', 'Maria']"
      ]
     },
     "execution_count": 16,
     "metadata": {},
     "output_type": "execute_result"
    }
   ],
   "source": [
    "participants.sort()\n",
    "participants"
   ]
  },
  {
   "cell_type": "code",
   "execution_count": 17,
   "id": "dbc04dc2",
   "metadata": {},
   "outputs": [
    {
     "data": {
      "text/plain": [
       "['Maria', 'Leila', 'John', 'George', 'Dwayne', 'Catherine']"
      ]
     },
     "execution_count": 17,
     "metadata": {},
     "output_type": "execute_result"
    }
   ],
   "source": [
    "participants.sort(reverse = True)\n",
    "participants"
   ]
  },
  {
   "cell_type": "code",
   "execution_count": 18,
   "id": "9a7e65c9",
   "metadata": {},
   "outputs": [
    {
     "data": {
      "text/plain": [
       "[5, 3, 4, 1, 2]"
      ]
     },
     "execution_count": 18,
     "metadata": {},
     "output_type": "execute_result"
    }
   ],
   "source": [
    "numbers = [5, 3, 4, 1, 2]\n",
    "numbers.sort\n",
    "numbers"
   ]
  },
  {
   "cell_type": "code",
   "execution_count": 19,
   "id": "4cfd97bf",
   "metadata": {},
   "outputs": [
    {
     "data": {
      "text/plain": [
       "[5, 4, 3, 2, 1]"
      ]
     },
     "execution_count": 19,
     "metadata": {},
     "output_type": "execute_result"
    }
   ],
   "source": [
    "numbers.sort(reverse = True)\n",
    "numbers"
   ]
  },
  {
   "cell_type": "code",
   "execution_count": null,
   "id": "bd3baef4",
   "metadata": {},
   "outputs": [],
   "source": []
  }
 ],
 "metadata": {
  "kernelspec": {
   "display_name": "Python 3 (ipykernel)",
   "language": "python",
   "name": "python3"
  },
  "language_info": {
   "codemirror_mode": {
    "name": "ipython",
    "version": 3
   },
   "file_extension": ".py",
   "mimetype": "text/x-python",
   "name": "python",
   "nbconvert_exporter": "python",
   "pygments_lexer": "ipython3",
   "version": "3.9.12"
  }
 },
 "nbformat": 4,
 "nbformat_minor": 5
}
