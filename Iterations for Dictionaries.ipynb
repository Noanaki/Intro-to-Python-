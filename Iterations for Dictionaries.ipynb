{
 "cells": [
  {
   "cell_type": "code",
   "execution_count": 3,
   "id": "09606e60",
   "metadata": {},
   "outputs": [
    {
     "name": "stdout",
     "output_type": "stream",
     "text": [
      "74\n"
     ]
    }
   ],
   "source": [
    "prices = {\n",
    "    'box of spaghetti' : 4,\n",
    "    'lasagna' : 5,\n",
    "    'hamburger' : 2\n",
    "    }\n",
    "quantity = {\n",
    "    'box of spaghetti' : 6,\n",
    "    'lasagna' : 10,\n",
    "    'hamburger' : 0\n",
    "    }\n",
    "money_spent = 0 \n",
    "\n",
    "for i in prices:\n",
    "    money_spent = money_spent + (prices[i] * quantity[i])\n",
    "    \n",
    "print (money_spent)"
   ]
  },
  {
   "cell_type": "markdown",
   "id": "8db5d779",
   "metadata": {},
   "source": [
    "Loop here works because [i] is the same for both prices and quantity, anothe way to to say that the keys in the dictionaries have the same names"
   ]
  }
 ],
 "metadata": {
  "kernelspec": {
   "display_name": "Python 3 (ipykernel)",
   "language": "python",
   "name": "python3"
  },
  "language_info": {
   "codemirror_mode": {
    "name": "ipython",
    "version": 3
   },
   "file_extension": ".py",
   "mimetype": "text/x-python",
   "name": "python",
   "nbconvert_exporter": "python",
   "pygments_lexer": "ipython3",
   "version": "3.9.12"
  }
 },
 "nbformat": 4,
 "nbformat_minor": 5
}
