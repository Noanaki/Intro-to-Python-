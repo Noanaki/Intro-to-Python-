{
 "cells": [
  {
   "cell_type": "code",
   "execution_count": 2,
   "id": "14a6d151",
   "metadata": {},
   "outputs": [],
   "source": [
    "def simple():\n",
    "    print (\"my first function\")"
   ]
  },
  {
   "cell_type": "code",
   "execution_count": 3,
   "id": "43d45c91",
   "metadata": {},
   "outputs": [
    {
     "name": "stdout",
     "output_type": "stream",
     "text": [
      "my first function\n"
     ]
    }
   ],
   "source": [
    "simple()"
   ]
  },
  {
   "cell_type": "code",
   "execution_count": 4,
   "id": "224b4949",
   "metadata": {},
   "outputs": [],
   "source": [
    "def plus_ten(a):\n",
    "    return a + 10"
   ]
  },
  {
   "cell_type": "code",
   "execution_count": 6,
   "id": "5bdfcb9b",
   "metadata": {},
   "outputs": [
    {
     "data": {
      "text/plain": [
       "12"
      ]
     },
     "execution_count": 6,
     "metadata": {},
     "output_type": "execute_result"
    }
   ],
   "source": [
    "plus_ten(2)"
   ]
  },
  {
   "cell_type": "code",
   "execution_count": 7,
   "id": "d1d66dc2",
   "metadata": {},
   "outputs": [
    {
     "data": {
      "text/plain": [
       "15"
      ]
     },
     "execution_count": 7,
     "metadata": {},
     "output_type": "execute_result"
    }
   ],
   "source": [
    "plus_ten(5)"
   ]
  },
  {
   "cell_type": "markdown",
   "id": "11a37642",
   "metadata": {},
   "source": [
    "def is a keyword that tells the computer that you are about to create a function\n",
    "To obtain the result of a function we must call it\n",
    "If we use parameters we have to use 'return' because we are trying to calculate, and need to return a value to the fucntion\n",
    "\n",
    "\n",
    "Format 'def function_name (parameters/arguement):' you can also have no parameter"
   ]
  },
  {
   "cell_type": "markdown",
   "id": "395a63c6",
   "metadata": {},
   "source": [
    "print does not affect the calculations of the output\n",
    "\n",
    "return does not visualize the ouptut, it specifies what a certain function is supposed to give back (we can only return 1 outcome)"
   ]
  },
  {
   "cell_type": "code",
   "execution_count": 62,
   "id": "8e35437d",
   "metadata": {},
   "outputs": [],
   "source": [
    "def plus_ten(a):\n",
    "    result = a + 10\n",
    "    print (\"outcome\")\n",
    "    return result"
   ]
  },
  {
   "cell_type": "code",
   "execution_count": 63,
   "id": "52c436bd",
   "metadata": {},
   "outputs": [
    {
     "name": "stdout",
     "output_type": "stream",
     "text": [
      "outcome\n"
     ]
    },
    {
     "data": {
      "text/plain": [
       "12"
      ]
     },
     "execution_count": 63,
     "metadata": {},
     "output_type": "execute_result"
    }
   ],
   "source": [
    "plus_ten(2)"
   ]
  },
  {
   "cell_type": "code",
   "execution_count": 60,
   "id": "f4019a86",
   "metadata": {},
   "outputs": [],
   "source": [
    "def wage(w_hours):\n",
    "    return w_hours * 25\n",
    "\n",
    "def with_bonus(w_hours):\n",
    "    return wage(w_hours) + 50"
   ]
  },
  {
   "cell_type": "code",
   "execution_count": 61,
   "id": "26165aa6",
   "metadata": {
    "scrolled": true
   },
   "outputs": [
    {
     "data": {
      "text/plain": [
       "(200, 250)"
      ]
     },
     "execution_count": 61,
     "metadata": {},
     "output_type": "execute_result"
    }
   ],
   "source": [
    "wage(8), with_bonus(8)"
   ]
  },
  {
   "cell_type": "markdown",
   "id": "c67f3921",
   "metadata": {},
   "source": [
    "Function can be used within a fucntion so long as they are defined prior to the use. "
   ]
  },
  {
   "cell_type": "code",
   "execution_count": null,
   "id": "27390ec0",
   "metadata": {},
   "outputs": [],
   "source": []
  }
 ],
 "metadata": {
  "kernelspec": {
   "display_name": "Python 3 (ipykernel)",
   "language": "python",
   "name": "python3"
  },
  "language_info": {
   "codemirror_mode": {
    "name": "ipython",
    "version": 3
   },
   "file_extension": ".py",
   "mimetype": "text/x-python",
   "name": "python",
   "nbconvert_exporter": "python",
   "pygments_lexer": "ipython3",
   "version": "3.9.12"
  }
 },
 "nbformat": 4,
 "nbformat_minor": 5
}
