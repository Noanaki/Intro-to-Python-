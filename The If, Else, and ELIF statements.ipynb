{
 "cells": [
  {
   "cell_type": "code",
   "execution_count": 3,
   "id": "26db3c34",
   "metadata": {},
   "outputs": [
    {
     "name": "stdout",
     "output_type": "stream",
     "text": [
      "Hooray\n"
     ]
    }
   ],
   "source": [
    "if 5 == 15 / 3:\n",
    "    print(\"Hooray\")\n"
   ]
  },
  {
   "cell_type": "code",
   "execution_count": 4,
   "id": "40885400",
   "metadata": {},
   "outputs": [],
   "source": [
    "if 5 == 18 / 3:\n",
    "    print(\"Hooray\")"
   ]
  },
  {
   "cell_type": "markdown",
   "id": "a035d06f",
   "metadata": {},
   "source": [
    "if is a contion, and the : marks the conditional code, in other words if the 'if' statement is satisfied, the code proceeding the ':' will be executed.\n",
    "it is important to indent as to keep the code organized and apply proper syntax"
   ]
  },
  {
   "cell_type": "code",
   "execution_count": 5,
   "id": "1ffc034d",
   "metadata": {},
   "outputs": [
    {
     "name": "stdout",
     "output_type": "stream",
     "text": [
      "case 2\n"
     ]
    }
   ],
   "source": [
    "x = 1\n",
    "if x > 3:\n",
    "    print(\"case 1\")\n",
    "    \n",
    "if x <= 3:\n",
    "    print(\"case 2\")\n"
   ]
  },
  {
   "cell_type": "code",
   "execution_count": 7,
   "id": "7d8b9fc2",
   "metadata": {},
   "outputs": [
    {
     "name": "stdout",
     "output_type": "stream",
     "text": [
      "case 2\n"
     ]
    }
   ],
   "source": [
    "x = 1\n",
    "if x > 3:\n",
    "    print(\"case 1\")c\n",
    "else:\n",
    "    print(\"case 2\")\n"
   ]
  },
  {
   "cell_type": "markdown",
   "id": "d1323b96",
   "metadata": {},
   "source": [
    "We the else statement as the 2nd conditional in a sense. If the 'if' statement is not fulfilled, the else statement will be the output\n",
    "\n",
    "This functions as a flow chart, where if the statement if true, then it will follow the if, if it is false it will follow the else"
   ]
  },
  {
   "cell_type": "code",
   "execution_count": 9,
   "id": "48db37b3",
   "metadata": {},
   "outputs": [
    {
     "ename": "SyntaxError",
     "evalue": "invalid syntax (776024032.py, line 4)",
     "output_type": "error",
     "traceback": [
      "\u001b[1;36m  Input \u001b[1;32mIn [9]\u001b[1;36m\u001b[0m\n\u001b[1;33m    else:\u001b[0m\n\u001b[1;37m    ^\u001b[0m\n\u001b[1;31mSyntaxError\u001b[0m\u001b[1;31m:\u001b[0m invalid syntax\n"
     ]
    }
   ],
   "source": [
    "x = 1\n",
    "if x > 3:\n",
    "    print(\"case 1\")\n",
    "    else:\n",
    "    print(\"case 2\")\n"
   ]
  },
  {
   "cell_type": "markdown",
   "id": "85b0af51",
   "metadata": {},
   "source": [
    "Code is made of blocks that are seperated by indentations, so aligning code properly is important to the syntax of python"
   ]
  },
  {
   "cell_type": "code",
   "execution_count": 28,
   "id": "eda2366a",
   "metadata": {},
   "outputs": [],
   "source": [
    "def compare_to_five(y):\n",
    "    if y > 5:\n",
    "        return \"greater\"\n",
    "    elif 0 > y :\n",
    "        return \"negative\"\n",
    "    elif y < 5:\n",
    "        return \"less\"\n",
    "    else:\n",
    "        return \"equal\""
   ]
  },
  {
   "cell_type": "code",
   "execution_count": 29,
   "id": "3f3deec7",
   "metadata": {},
   "outputs": [
    {
     "name": "stdout",
     "output_type": "stream",
     "text": [
      "negative\n"
     ]
    }
   ],
   "source": [
    "print (compare_to_five(-2))"
   ]
  },
  {
   "cell_type": "code",
   "execution_count": 11,
   "id": "e6875fd1",
   "metadata": {},
   "outputs": [
    {
     "name": "stdout",
     "output_type": "stream",
     "text": [
      "greater\n"
     ]
    }
   ],
   "source": [
    "print (compare_to_five(10))"
   ]
  },
  {
   "cell_type": "code",
   "execution_count": 30,
   "id": "330ec767",
   "metadata": {},
   "outputs": [
    {
     "name": "stdout",
     "output_type": "stream",
     "text": [
      "less\n"
     ]
    }
   ],
   "source": [
    "print (compare_to_five(3))"
   ]
  },
  {
   "cell_type": "code",
   "execution_count": 15,
   "id": "51200a9d",
   "metadata": {},
   "outputs": [
    {
     "name": "stdout",
     "output_type": "stream",
     "text": [
      "equal\n"
     ]
    }
   ],
   "source": [
    "print (compare_to_five(5))"
   ]
  },
  {
   "cell_type": "markdown",
   "id": "7b7326cc",
   "metadata": {},
   "source": [
    "elif is used as an alternate 'if' statement, and has no limit on how many are put into a block of code\n",
    "\n",
    "The computer will always read the code from top to bottom, so order is important (code is run 1 at a time, step by step)\n",
    "\n",
    "Once it reaches a conditional that is satisfied, it will not go through the conditionals past that"
   ]
  },
  {
   "cell_type": "code",
   "execution_count": null,
   "id": "aa4b37f3",
   "metadata": {},
   "outputs": [],
   "source": []
  }
 ],
 "metadata": {
  "kernelspec": {
   "display_name": "Python 3 (ipykernel)",
   "language": "python",
   "name": "python3"
  },
  "language_info": {
   "codemirror_mode": {
    "name": "ipython",
    "version": 3
   },
   "file_extension": ".py",
   "mimetype": "text/x-python",
   "name": "python",
   "nbconvert_exporter": "python",
   "pygments_lexer": "ipython3",
   "version": "3.9.12"
  }
 },
 "nbformat": 4,
 "nbformat_minor": 5
}
