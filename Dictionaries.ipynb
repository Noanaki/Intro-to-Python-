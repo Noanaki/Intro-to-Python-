{
 "cells": [
  {
   "cell_type": "markdown",
   "id": "144191f8",
   "metadata": {},
   "source": [
    "Dictionaries are another way to store data\n",
    "Each element is a key - value pair\n",
    "made with {} braces"
   ]
  },
  {
   "cell_type": "code",
   "execution_count": 2,
   "id": "a1c8de9d",
   "metadata": {},
   "outputs": [
    {
     "data": {
      "text/plain": [
       "{'k1': 'cat', 'k2': 'dog', 'k3': 'mouse', 'k4': 'fish'}"
      ]
     },
     "execution_count": 2,
     "metadata": {},
     "output_type": "execute_result"
    }
   ],
   "source": [
    "dict = {'k1':'cat', 'k2':'dog', 'k3':'mouse', 'k4':'fish'}\n",
    "dict"
   ]
  },
  {
   "cell_type": "markdown",
   "id": "3d8ed99b",
   "metadata": {},
   "source": [
    "We can access and element by its key rather than its index"
   ]
  },
  {
   "cell_type": "code",
   "execution_count": 3,
   "id": "e907855a",
   "metadata": {},
   "outputs": [
    {
     "data": {
      "text/plain": [
       "'cat'"
      ]
     },
     "execution_count": 3,
     "metadata": {},
     "output_type": "execute_result"
    }
   ],
   "source": [
    "dict['k1']"
   ]
  },
  {
   "cell_type": "code",
   "execution_count": 5,
   "id": "d5ee82ee",
   "metadata": {},
   "outputs": [
    {
     "data": {
      "text/plain": [
       "'mouse'"
      ]
     },
     "execution_count": 5,
     "metadata": {},
     "output_type": "execute_result"
    }
   ],
   "source": [
    "dict['k3']"
   ]
  },
  {
   "cell_type": "markdown",
   "id": "25a4453c",
   "metadata": {},
   "source": [
    "We can also add new keys to a dictionary \n",
    "Format dict[key name] = new value\n",
    "We can replace key values with the same format"
   ]
  },
  {
   "cell_type": "code",
   "execution_count": 8,
   "id": "3357fa03",
   "metadata": {},
   "outputs": [
    {
     "data": {
      "text/plain": [
       "{'k1': 'cat', 'k2': 'dog', 'k3': 'mouse', 'k4': 'fish', 'k5': 'parrot'}"
      ]
     },
     "execution_count": 8,
     "metadata": {},
     "output_type": "execute_result"
    }
   ],
   "source": [
    "dict['k5'] = 'parrot'\n",
    "dict"
   ]
  },
  {
   "cell_type": "code",
   "execution_count": 9,
   "id": "9104882f",
   "metadata": {},
   "outputs": [
    {
     "data": {
      "text/plain": [
       "{'k1': 'cat', 'k2': 'squirrel', 'k3': 'mouse', 'k4': 'fish', 'k5': 'parrot'}"
      ]
     },
     "execution_count": 9,
     "metadata": {},
     "output_type": "execute_result"
    }
   ],
   "source": [
    "dict['k2'] = 'squirrel'\n",
    "dict"
   ]
  },
  {
   "cell_type": "markdown",
   "id": "18ecd1b0",
   "metadata": {},
   "source": [
    " A key can also be assigned to a list of elements"
   ]
  },
  {
   "cell_type": "code",
   "execution_count": 10,
   "id": "15dd3328",
   "metadata": {},
   "outputs": [],
   "source": [
    "dep_workers = {'dep_1':'Peter', 'dep_2':['Jennifer','Michael','Tommy']}"
   ]
  },
  {
   "cell_type": "code",
   "execution_count": 11,
   "id": "71658132",
   "metadata": {},
   "outputs": [
    {
     "data": {
      "text/plain": [
       "['Jennifer', 'Michael', 'Tommy']"
      ]
     },
     "execution_count": 11,
     "metadata": {},
     "output_type": "execute_result"
    }
   ],
   "source": [
    "dep_workers['dep_2']"
   ]
  },
  {
   "cell_type": "markdown",
   "id": "b0bf222f",
   "metadata": {},
   "source": [
    "Another way to assign keys to a value is by making a fucntion a dictionary and adding\n",
    "Format dict name = {}"
   ]
  },
  {
   "cell_type": "code",
   "execution_count": 12,
   "id": "4db66ab3",
   "metadata": {},
   "outputs": [
    {
     "data": {
      "text/plain": [
       "{'Point Guard': 'Dirk',\n",
       " 'Shooting Guard': 'AL',\n",
       " 'Small Forward': 'Sean',\n",
       " 'Power Forward': 'Alexander',\n",
       " 'Center': 'Hector'}"
      ]
     },
     "execution_count": 12,
     "metadata": {},
     "output_type": "execute_result"
    }
   ],
   "source": [
    "Team = {}\n",
    "Team['Point Guard'] = 'Dirk'\n",
    "Team['Shooting Guard'] = 'AL'\n",
    "Team['Small Forward'] = 'Sean'\n",
    "Team['Power Forward'] = 'Alexander'\n",
    "Team['Center'] = 'Hector'\n",
    "Team"
   ]
  },
  {
   "cell_type": "code",
   "execution_count": 16,
   "id": "f365063a",
   "metadata": {},
   "outputs": [
    {
     "name": "stdout",
     "output_type": "stream",
     "text": [
      "Hector\n"
     ]
    }
   ],
   "source": [
    "print(Team['Center'])"
   ]
  },
  {
   "cell_type": "markdown",
   "id": "05885dcd",
   "metadata": {},
   "source": [
    "We can get the value of a key by using the .get method, and this will have no syntax error if you try to get a value for a non-existing key\n",
    "\n",
    "Format  dict name.get('key')"
   ]
  },
  {
   "cell_type": "code",
   "execution_count": 19,
   "id": "b7606cea",
   "metadata": {},
   "outputs": [
    {
     "name": "stdout",
     "output_type": "stream",
     "text": [
      "Hector\n"
     ]
    }
   ],
   "source": [
    "print(Team.get('Center'))"
   ]
  },
  {
   "cell_type": "code",
   "execution_count": 20,
   "id": "ddc7f771",
   "metadata": {},
   "outputs": [
    {
     "name": "stdout",
     "output_type": "stream",
     "text": [
      "None\n"
     ]
    }
   ],
   "source": [
    "print(Team.get('Coach'))"
   ]
  },
  {
   "cell_type": "code",
   "execution_count": null,
   "id": "a5486c2d",
   "metadata": {},
   "outputs": [],
   "source": []
  }
 ],
 "metadata": {
  "kernelspec": {
   "display_name": "Python 3 (ipykernel)",
   "language": "python",
   "name": "python3"
  },
  "language_info": {
   "codemirror_mode": {
    "name": "ipython",
    "version": 3
   },
   "file_extension": ".py",
   "mimetype": "text/x-python",
   "name": "python",
   "nbconvert_exporter": "python",
   "pygments_lexer": "ipython3",
   "version": "3.9.12"
  }
 },
 "nbformat": 4,
 "nbformat_minor": 5
}
